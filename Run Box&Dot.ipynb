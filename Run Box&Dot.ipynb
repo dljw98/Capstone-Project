{
 "cells": [
  {
   "cell_type": "code",
   "execution_count": 20,
   "metadata": {},
   "outputs": [],
   "source": [
    "import importlib "
   ]
  },
  {
   "cell_type": "code",
   "execution_count": 21,
   "metadata": {},
   "outputs": [
    {
     "data": {
      "text/plain": [
       "<module 'RouteVisualisation' from 'c:\\\\Users\\\\goshu\\\\Desktop\\\\Y4S2\\\\Capstone\\\\Capstone-Project\\\\RouteVisualisation.py'>"
      ]
     },
     "execution_count": 21,
     "metadata": {},
     "output_type": "execute_result"
    }
   ],
   "source": [
    "import RouteVisualisation\n",
    "from RouteVisualisation import create_grid_df, create_address_list, create_df, box_time_matrix\n",
    "from MatchingAlgorithm import run_algorithm_version_timeMatrix\n",
    "\n",
    "importlib.reload(RouteVisualisation)"
   ]
  },
  {
   "cell_type": "code",
   "execution_count": 22,
   "metadata": {},
   "outputs": [],
   "source": [
    "scenario_1 = {\n",
    "    \"Customer Orders\":[(0,0),(0,1),(0,2),(0,3),(0,4),(0,5),(1,4),(3,3),(3,4),(4,3),(4,4),(5,3),(5,4)],\n",
    "    \"Phlebotomist Home\":[(1,1),(5,5)],\n",
    "    \"Catchment Area\":[(2,3)]\n",
    "}\n",
    "\n",
    "grid_size = 5"
   ]
  },
  {
   "cell_type": "code",
   "execution_count": 23,
   "metadata": {},
   "outputs": [
    {
     "name": "stdout",
     "output_type": "stream",
     "text": [
      "[(2, 3), (1, 1), (5, 5), (0, 0), (0, 1), (0, 2), (0, 3), (0, 4), (0, 5), (1, 4), (3, 3), (3, 4), (4, 3), (4, 4), (5, 3), (5, 4)]\n"
     ]
    }
   ],
   "source": [
    "address_list = create_address_list(scenario_1)\n",
    "time_matrix = box_time_matrix(address_list)"
   ]
  },
  {
   "cell_type": "code",
   "execution_count": 24,
   "metadata": {},
   "outputs": [
    {
     "name": "stdout",
     "output_type": "stream",
     "text": [
      "Customer Orders\n",
      "Customer Orders\n",
      "Customer Orders\n",
      "Customer Orders\n",
      "Customer Orders\n",
      "Customer Orders\n",
      "Customer Orders\n",
      "Customer Orders\n",
      "Customer Orders\n",
      "Customer Orders\n",
      "Customer Orders\n",
      "Customer Orders\n",
      "Customer Orders\n",
      "Phlebotomist Home\n",
      "Phlebotomist Home\n",
      "Catchment Area\n",
      "    x  y           Location\n",
      "0   0  0    Customer Orders\n",
      "1   0  1    Customer Orders\n",
      "2   0  2    Customer Orders\n",
      "3   0  3    Customer Orders\n",
      "4   0  4    Customer Orders\n",
      "5   0  5    Customer Orders\n",
      "6   1  0                  0\n",
      "7   1  1  Phlebotomist Home\n",
      "8   1  2                  0\n",
      "9   1  3                  0\n",
      "10  1  4    Customer Orders\n",
      "11  1  5                  0\n",
      "12  2  0                  0\n",
      "13  2  1                  0\n",
      "14  2  2                  0\n",
      "15  2  3     Catchment Area\n",
      "16  2  4                  0\n",
      "17  2  5                  0\n",
      "18  3  0                  0\n",
      "19  3  1                  0\n",
      "20  3  2                  0\n",
      "21  3  3    Customer Orders\n",
      "22  3  4    Customer Orders\n",
      "23  3  5                  0\n",
      "24  4  0                  0\n",
      "25  4  1                  0\n",
      "26  4  2                  0\n",
      "27  4  3    Customer Orders\n",
      "28  4  4    Customer Orders\n",
      "29  4  5                  0\n",
      "30  5  0                  0\n",
      "31  5  1                  0\n",
      "32  5  2                  0\n",
      "33  5  3    Customer Orders\n",
      "34  5  4    Customer Orders\n",
      "35  5  5  Phlebotomist Home\n",
      "   shift_start  break_start  shift_end  cost  expertise_premium  \\\n",
      "0            7           11         15  1000                  1   \n",
      "1            7           11         15   800                  0   \n",
      "\n",
      "   expertise_regular  expertise_special  capacity  service_rating  gender  \\\n",
      "0                  1                  1        20             3.5       0   \n",
      "1                  1                  0        20             4.0       0   \n",
      "\n",
      "   phleb_id  long  lat  \n",
      "0         0     1    1  \n",
      "1         1     5    5  \n",
      "    order_start  service_premium  service_regular  service_special  duration  \\\n",
      "0            14                1                0                1         0   \n",
      "1             9                0                1                1         0   \n",
      "2             8                0                1                0         0   \n",
      "3            14                0                1                1         0   \n",
      "4            14                1                0                1         0   \n",
      "5             8                1                1                0         0   \n",
      "6             9                1                1                1         0   \n",
      "7             8                1                1                0         0   \n",
      "8             9                1                1                1         0   \n",
      "9            12                1                1                0         0   \n",
      "10            9                1                0                0         0   \n",
      "11           11                1                0                0         0   \n",
      "12            9                0                1                0         0   \n",
      "\n",
      "    price  buffer  capacity_needed  order_id  requested_female  long  lat  \n",
      "0     700       0                2         0                 0     0    0  \n",
      "1     600       0                2         1                 0     0    1  \n",
      "2     200       0                1         2                 0     0    2  \n",
      "3     600       0                2         3                 0     0    3  \n",
      "4     700       0                2         4                 0     0    4  \n",
      "5     500       0                2         5                 0     0    5  \n",
      "6     900       0                3         6                 0     1    4  \n",
      "7     500       0                2         7                 0     3    3  \n",
      "8     900       0                3         8                 0     3    4  \n",
      "9     500       0                2         9                 0     4    3  \n",
      "10    300       0                1        10                 0     4    4  \n",
      "11    300       0                1        11                 0     5    3  \n",
      "12    200       0                1        12                 0     5    4  \n",
      "   long  lat\n",
      "0     2    3\n"
     ]
    }
   ],
   "source": [
    "grid = create_grid_df(grid_size, scenario_1)\n",
    "phleb_box_data = create_df(grid, scenario_1, 'phleb')\n",
    "orders_box_data = create_df(grid, scenario_1, 'order')\n",
    "catchment_box_data = create_df(grid, scenario_1, 'catchment')"
   ]
  },
  {
   "cell_type": "code",
   "execution_count": 25,
   "metadata": {},
   "outputs": [
    {
     "ename": "KeyError",
     "evalue": "\"Only a column name can be used for the key in a dtype mappings argument. 'home_long' not found in columns.\"",
     "output_type": "error",
     "traceback": [
      "\u001b[1;31m---------------------------------------------------------------------------\u001b[0m",
      "\u001b[1;31mKeyError\u001b[0m                                  Traceback (most recent call last)",
      "Cell \u001b[1;32mIn[25], line 1\u001b[0m\n\u001b[1;32m----> 1\u001b[0m output \u001b[39m=\u001b[39m run_algorithm_version_timeMatrix(orders_box_data, catchment_box_data, phleb_box_data, time_matrix)\n",
      "File \u001b[1;32mc:\\Users\\goshu\\Desktop\\Y4S2\\Capstone\\Capstone-Project\\MatchingAlgorithm.py:477\u001b[0m, in \u001b[0;36mrun_algorithm_version_timeMatrix\u001b[1;34m(orders_df, catchments_df, phlebs_df, time_matrix)\u001b[0m\n\u001b[0;32m    475\u001b[0m expertiseConstraints \u001b[39m=\u001b[39m FE\u001b[39m.\u001b[39mget_serviceExpertiseConstraint_list(orders_df, catchments_df, phlebs_df)\n\u001b[0;32m    476\u001b[0m inverse_ratings \u001b[39m=\u001b[39m FE\u001b[39m.\u001b[39mget_inverseRatings_list(orders_df, catchments_df, phlebs_df)\n\u001b[1;32m--> 477\u001b[0m metadata \u001b[39m=\u001b[39m FE\u001b[39m.\u001b[39;49mget_metadata(orders_df, catchments_df, phlebs_df)\n\u001b[0;32m    479\u001b[0m data \u001b[39m=\u001b[39m create_data_model(time_matrix, order_window, revenues, numPhleb, servicing_times, expertiseConstraints, orders_capacities, phlebs_capacities, inverse_ratings, metadata)\n\u001b[0;32m    481\u001b[0m \u001b[39m# Create the routing index manager.\u001b[39;00m\n",
      "File \u001b[1;32mc:\\Users\\goshu\\Desktop\\Y4S2\\Capstone\\Capstone-Project\\FeatureEngineering.py:203\u001b[0m, in \u001b[0;36mget_metadata\u001b[1;34m(orders_df, catchments_df, phlebs_df)\u001b[0m\n\u001b[0;32m    201\u001b[0m order_ids\u001b[39m.\u001b[39mextend([\u001b[39m\"\u001b[39m\u001b[39mStarting Location\u001b[39m\u001b[39m\"\u001b[39m \u001b[39mfor\u001b[39;00m _ \u001b[39min\u001b[39;00m \u001b[39mrange\u001b[39m(numPhleb)])\n\u001b[0;32m    202\u001b[0m order_ids\u001b[39m.\u001b[39mextend(orders_df[\u001b[39m'\u001b[39m\u001b[39morder_id\u001b[39m\u001b[39m'\u001b[39m])\n\u001b[1;32m--> 203\u001b[0m addresses_list \u001b[39m=\u001b[39m get_coordinates_list(orders_df, catchments_df, phlebs_df)\n\u001b[0;32m    204\u001b[0m locations_metadata \u001b[39m=\u001b[39m \u001b[39mzip\u001b[39m(addresses_list, order_ids)\n\u001b[0;32m    206\u001b[0m phlebs_metadata \u001b[39m=\u001b[39m \u001b[39mzip\u001b[39m(phlebs_df[\u001b[39m'\u001b[39m\u001b[39mphleb_id\u001b[39m\u001b[39m'\u001b[39m], phlebs_df[\u001b[39m'\u001b[39m\u001b[39mExpertises Unpivoted\u001b[39m\u001b[39m'\u001b[39m])\n",
      "File \u001b[1;32mc:\\Users\\goshu\\Desktop\\Y4S2\\Capstone\\Capstone-Project\\FeatureEngineering.py:106\u001b[0m, in \u001b[0;36mget_coordinates_list\u001b[1;34m(orders_df, catchments_df, phlebs_df)\u001b[0m\n\u001b[0;32m    104\u001b[0m orders_df \u001b[39m=\u001b[39m orders_df\u001b[39m.\u001b[39mastype({\u001b[39m'\u001b[39m\u001b[39mlong\u001b[39m\u001b[39m'\u001b[39m: \u001b[39mstr\u001b[39m, \u001b[39m'\u001b[39m\u001b[39mlat\u001b[39m\u001b[39m'\u001b[39m: \u001b[39mstr\u001b[39m})\n\u001b[0;32m    105\u001b[0m catchments_df \u001b[39m=\u001b[39m catchments_df\u001b[39m.\u001b[39mastype({\u001b[39m'\u001b[39m\u001b[39mlong\u001b[39m\u001b[39m'\u001b[39m: \u001b[39mstr\u001b[39m, \u001b[39m'\u001b[39m\u001b[39mlat\u001b[39m\u001b[39m'\u001b[39m: \u001b[39mstr\u001b[39m})\n\u001b[1;32m--> 106\u001b[0m phlebs_df \u001b[39m=\u001b[39m phlebs_df\u001b[39m.\u001b[39;49mastype({\u001b[39m'\u001b[39;49m\u001b[39mhome_long\u001b[39;49m\u001b[39m'\u001b[39;49m: \u001b[39mstr\u001b[39;49m, \u001b[39m'\u001b[39;49m\u001b[39mhome_lat\u001b[39;49m\u001b[39m'\u001b[39;49m: \u001b[39mstr\u001b[39;49m})\n\u001b[0;32m    108\u001b[0m orders_df[\u001b[39m'\u001b[39m\u001b[39mAddress\u001b[39m\u001b[39m'\u001b[39m] \u001b[39m=\u001b[39m orders_df[\u001b[39m'\u001b[39m\u001b[39mlat\u001b[39m\u001b[39m'\u001b[39m]\u001b[39m.\u001b[39mstr\u001b[39m.\u001b[39mcat(orders_df[\u001b[39m'\u001b[39m\u001b[39mlong\u001b[39m\u001b[39m'\u001b[39m], sep\u001b[39m=\u001b[39m\u001b[39m'\u001b[39m\u001b[39m,\u001b[39m\u001b[39m'\u001b[39m)\n\u001b[0;32m    109\u001b[0m catchments_df[\u001b[39m'\u001b[39m\u001b[39mAddress\u001b[39m\u001b[39m'\u001b[39m] \u001b[39m=\u001b[39m catchments_df[\u001b[39m'\u001b[39m\u001b[39mlat\u001b[39m\u001b[39m'\u001b[39m]\u001b[39m.\u001b[39mstr\u001b[39m.\u001b[39mcat(catchments_df[\u001b[39m'\u001b[39m\u001b[39mlong\u001b[39m\u001b[39m'\u001b[39m], sep\u001b[39m=\u001b[39m\u001b[39m'\u001b[39m\u001b[39m,\u001b[39m\u001b[39m'\u001b[39m)\n",
      "File \u001b[1;32mc:\\Users\\goshu\\anaconda3\\envs\\ox\\Lib\\site-packages\\pandas\\core\\generic.py:6212\u001b[0m, in \u001b[0;36mNDFrame.astype\u001b[1;34m(self, dtype, copy, errors)\u001b[0m\n\u001b[0;32m   6210\u001b[0m \u001b[39mfor\u001b[39;00m col_name \u001b[39min\u001b[39;00m dtype_ser\u001b[39m.\u001b[39mindex:\n\u001b[0;32m   6211\u001b[0m     \u001b[39mif\u001b[39;00m col_name \u001b[39mnot\u001b[39;00m \u001b[39min\u001b[39;00m \u001b[39mself\u001b[39m:\n\u001b[1;32m-> 6212\u001b[0m         \u001b[39mraise\u001b[39;00m \u001b[39mKeyError\u001b[39;00m(\n\u001b[0;32m   6213\u001b[0m             \u001b[39m\"\u001b[39m\u001b[39mOnly a column name can be used for the \u001b[39m\u001b[39m\"\u001b[39m\n\u001b[0;32m   6214\u001b[0m             \u001b[39m\"\u001b[39m\u001b[39mkey in a dtype mappings argument. \u001b[39m\u001b[39m\"\u001b[39m\n\u001b[0;32m   6215\u001b[0m             \u001b[39mf\u001b[39m\u001b[39m\"\u001b[39m\u001b[39m'\u001b[39m\u001b[39m{\u001b[39;00mcol_name\u001b[39m}\u001b[39;00m\u001b[39m'\u001b[39m\u001b[39m not found in columns.\u001b[39m\u001b[39m\"\u001b[39m\n\u001b[0;32m   6216\u001b[0m         )\n\u001b[0;32m   6218\u001b[0m dtype_ser \u001b[39m=\u001b[39m dtype_ser\u001b[39m.\u001b[39mreindex(\u001b[39mself\u001b[39m\u001b[39m.\u001b[39mcolumns, fill_value\u001b[39m=\u001b[39m\u001b[39mNone\u001b[39;00m, copy\u001b[39m=\u001b[39m\u001b[39mFalse\u001b[39;00m)\n\u001b[0;32m   6220\u001b[0m results \u001b[39m=\u001b[39m []\n",
      "\u001b[1;31mKeyError\u001b[0m: \"Only a column name can be used for the key in a dtype mappings argument. 'home_long' not found in columns.\""
     ]
    }
   ],
   "source": [
    "output = run_algorithm_version_timeMatrix(orders_box_data, catchment_box_data, phleb_box_data, time_matrix)"
   ]
  }
 ],
 "metadata": {
  "kernelspec": {
   "display_name": "ox",
   "language": "python",
   "name": "python3"
  },
  "language_info": {
   "codemirror_mode": {
    "name": "ipython",
    "version": 3
   },
   "file_extension": ".py",
   "mimetype": "text/x-python",
   "name": "python",
   "nbconvert_exporter": "python",
   "pygments_lexer": "ipython3",
   "version": "3.11.0"
  },
  "orig_nbformat": 4
 },
 "nbformat": 4,
 "nbformat_minor": 2
}
